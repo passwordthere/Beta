{
 "cells": [
  {
   "cell_type": "code",
   "execution_count": 6,
   "metadata": {},
   "outputs": [],
   "source": [
    "import yfinance as yf\n",
    "import pandas as pd\n",
    "from datetime import datetime\n",
    "import numpy as np\n",
    "import statsmodels.api as sm\n",
    "import matplotlib.pyplot as plt\n",
    "import pytz"
   ]
  },
  {
   "cell_type": "code",
   "execution_count": 7,
   "metadata": {},
   "outputs": [
    {
     "name": "stderr",
     "output_type": "stream",
     "text": [
      "[*********************100%***********************]  1 of 1 completed\n"
     ]
    },
    {
     "data": {
      "text/plain": [
       "1      0.007511\n",
       "2     -0.011714\n",
       "3      0.022584\n",
       "4     -0.000768\n",
       "5      0.006954\n",
       "         ...   \n",
       "418   -0.021378\n",
       "419   -0.001604\n",
       "420   -0.003023\n",
       "421   -0.017411\n",
       "422    0.011514\n",
       "Name: Adj Close, Length: 422, dtype: float64"
      ]
     },
     "execution_count": 7,
     "metadata": {},
     "output_type": "execute_result"
    }
   ],
   "source": [
    "ticker = '^GSPC'\n",
    "end_date = datetime.now().strftime('%Y-%m-%d')\n",
    "data = yf.download(ticker, start='2023-01-01', end=end_date)\n",
    "\n",
    "data.reset_index(inplace=True)\n",
    "index_returns = np.log(data['Adj Close'] / data['Adj Close'].shift(1))\n",
    "index_returns = index_returns.dropna()\n",
    "index_returns"
   ]
  },
  {
   "cell_type": "code",
   "execution_count": 9,
   "metadata": {},
   "outputs": [
    {
     "name": "stderr",
     "output_type": "stream",
     "text": [
      "[*********************100%***********************]  1 of 1 completed\n",
      "[*********************100%***********************]  1 of 1 completed\n",
      "[*********************100%***********************]  1 of 1 completed\n",
      "[*********************100%***********************]  1 of 1 completed\n",
      "\n",
      "1 Failed download:\n",
      "['01810.HK']: YFTzMissingError('$%ticker%: possibly delisted; no timezone found')\n",
      "[*********************100%***********************]  1 of 1 completed\n",
      "\n",
      "1 Failed download:\n",
      "['02015.HK']: YFTzMissingError('$%ticker%: possibly delisted; no timezone found')\n",
      "[*********************100%***********************]  1 of 1 completed\n",
      "\n",
      "1 Failed download:\n",
      "['09888.HK']: YFTzMissingError('$%ticker%: possibly delisted; no timezone found')\n",
      "[*********************100%***********************]  1 of 1 completed\n",
      "\n",
      "1 Failed download:\n",
      "['00700.HK']: YFPricesMissingError('$%ticker%: possibly delisted; no price data found  (1d 2023-01-01 -> 2024-09-10)')\n",
      "[*********************100%***********************]  1 of 1 completed\n",
      "[*********************100%***********************]  1 of 1 completed\n",
      "[*********************100%***********************]  1 of 1 completed\n",
      "[*********************100%***********************]  1 of 1 completed"
     ]
    },
    {
     "name": "stdout",
     "output_type": "stream",
     "text": [
      "1     NaN\n",
      "2     NaN\n",
      "3     NaN\n",
      "4     NaN\n",
      "5     NaN\n",
      "       ..\n",
      "418   NaN\n",
      "419   NaN\n",
      "420   NaN\n",
      "421   NaN\n",
      "422   NaN\n",
      "Length: 422, dtype: float64\n"
     ]
    },
    {
     "name": "stderr",
     "output_type": "stream",
     "text": [
      "\n"
     ]
    }
   ],
   "source": [
    "STOCKS = []\n",
    "def get_stock_data(tickers):\n",
    "    end_date = datetime.now().strftime('%Y-%m-%d')\n",
    "    for ticker in tickers:\n",
    "        try:\n",
    "            data = yf.download(ticker, start='2023-01-01', end=end_date)\n",
    "            data.reset_index(inplace=True)\n",
    "            STOCKS.append(data)\n",
    "        except Exception as e:\n",
    "            tz = pytz.timezone(\"Asia/Hong_Kong\")\n",
    "            data.reset_index(inplace=True)\n",
    "            STOCKS.append(data)\n",
    "\n",
    "tickers = ['601127.SS', '002594.SZ', '002432.SZ', '01810.HK', '02015.HK', '09888.HK', '00700.HK', 'AAPL', 'NVDA', 'PDD', 'TSLA']\n",
    "get_stock_data(tickers)\n",
    "\n",
    "stocks_returns = []\n",
    "for stock in STOCKS:\n",
    "    returns = np.log(stock['Adj Close'] / stock['Adj Close'].shift(1))  # 计算对数收益率\n",
    "    returns = returns.dropna()\n",
    "    stocks_returns.append(returns)\n",
    "\n",
    "n = len(tickers)\n",
    "weights = np.full(n, 1/n)\n",
    "df = pd.DataFrame({\n",
    "    f'stock_{chr(65 + i)}': stocks_returns[i] for i in range(n)\n",
    "})\n",
    "stock_returns = df.dot(weights)\n",
    "\n",
    "print(stock_returns)"
   ]
  },
  {
   "cell_type": "code",
   "execution_count": 11,
   "metadata": {},
   "outputs": [
    {
     "data": {
      "text/plain": [
       "1     NaN\n",
       "2     NaN\n",
       "3     NaN\n",
       "4     NaN\n",
       "5     NaN\n",
       "       ..\n",
       "418   NaN\n",
       "419   NaN\n",
       "420   NaN\n",
       "421   NaN\n",
       "422   NaN\n",
       "Length: 422, dtype: float64"
      ]
     },
     "execution_count": 11,
     "metadata": {},
     "output_type": "execute_result"
    }
   ],
   "source": [
    "X = index_returns\n",
    "y = stock_returns\n",
    "\n",
    "X\n",
    "y"
   ]
  }
 ],
 "metadata": {
  "kernelspec": {
   "display_name": "cursor_tmp",
   "language": "python",
   "name": "python3"
  },
  "language_info": {
   "codemirror_mode": {
    "name": "ipython",
    "version": 3
   },
   "file_extension": ".py",
   "mimetype": "text/x-python",
   "name": "python",
   "nbconvert_exporter": "python",
   "pygments_lexer": "ipython3",
   "version": "3.9.19"
  }
 },
 "nbformat": 4,
 "nbformat_minor": 2
}
