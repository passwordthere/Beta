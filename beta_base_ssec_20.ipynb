{
 "cells": [
  {
   "cell_type": "code",
   "execution_count": 1,
   "metadata": {},
   "outputs": [],
   "source": [
    "import yfinance as yf\n",
    "import pandas as pd\n",
    "from datetime import datetime\n",
    "import numpy as np\n",
    "import statsmodels.api as sm\n",
    "import matplotlib.pyplot as plt\n",
    "\n",
    "start_date = '2023-09-11'\n",
    "end_date = datetime.now().strftime('%Y-%m-%d')"
   ]
  },
  {
   "cell_type": "code",
   "execution_count": 2,
   "metadata": {},
   "outputs": [
    {
     "name": "stderr",
     "output_type": "stream",
     "text": [
      "[*********************100%***********************]  1 of 1 completed\n"
     ]
    },
    {
     "data": {
      "text/plain": [
       "1     -0.001844\n",
       "2     -0.006389\n",
       "3     -0.000841\n",
       "4     -0.006646\n",
       "5      0.005091\n",
       "         ...   \n",
       "238   -0.006519\n",
       "239    0.001720\n",
       "240   -0.008140\n",
       "241   -0.011955\n",
       "242    0.000880\n",
       "Name: Adj Close, Length: 242, dtype: float64"
      ]
     },
     "execution_count": 2,
     "metadata": {},
     "output_type": "execute_result"
    }
   ],
   "source": [
    "ticker = '000300.SS'\n",
    "data = yf.download(ticker, start=start_date, end=end_date)\n",
    "\n",
    "data.reset_index(inplace=True)\n",
    "index_returns = np.log(data['Adj Close'] / data['Adj Close'].shift(1))\n",
    "index_returns = index_returns.dropna()\n",
    "\n",
    "index_returns"
   ]
  },
  {
   "cell_type": "code",
   "execution_count": 4,
   "metadata": {},
   "outputs": [
    {
     "name": "stderr",
     "output_type": "stream",
     "text": [
      "[*********************100%***********************]  1 of 1 completed\n",
      "[*********************100%***********************]  1 of 1 completed\n",
      "\n",
      "1 Failed download:\n",
      "['603880.SH']: YFTzMissingError('$%ticker%: possibly delisted; no timezone found')\n",
      "[*********************100%***********************]  1 of 1 completed\n",
      "[*********************100%***********************]  1 of 1 completed\n",
      "\n",
      "1 Failed download:\n",
      "['601113.SH']: YFTzMissingError('$%ticker%: possibly delisted; no timezone found')\n",
      "[*********************100%***********************]  1 of 1 completed\n",
      "[*********************100%***********************]  1 of 1 completed\n",
      "\n",
      "1 Failed download:\n",
      "['600645.SH']: YFTzMissingError('$%ticker%: possibly delisted; no timezone found')\n",
      "[*********************100%***********************]  1 of 1 completed\n",
      "[*********************100%***********************]  1 of 1 completed\n",
      "[*********************100%***********************]  1 of 1 completed\n",
      "[*********************100%***********************]  1 of 1 completed\n",
      "\n",
      "1 Failed download:\n",
      "['601601.SH']: YFTzMissingError('$%ticker%: possibly delisted; no timezone found')\n",
      "[*********************100%***********************]  1 of 1 completed\n",
      "\n",
      "1 Failed download:\n",
      "['601336.SH']: YFTzMissingError('$%ticker%: possibly delisted; no timezone found')\n",
      "[*********************100%***********************]  1 of 1 completed\n",
      "[*********************100%***********************]  1 of 1 completed\n",
      "[*********************100%***********************]  1 of 1 completed\n",
      "\n",
      "1 Failed download:\n",
      "['601628.SH']: YFTzMissingError('$%ticker%: possibly delisted; no timezone found')\n",
      "[*********************100%***********************]  1 of 1 completed\n",
      "\n",
      "1 Failed download:\n",
      "['601319.SH']: YFTzMissingError('$%ticker%: possibly delisted; no timezone found')\n",
      "[*********************100%***********************]  1 of 1 completed\n",
      "\n",
      "1 Failed download:\n",
      "['601318.SH']: YFTzMissingError('$%ticker%: possibly delisted; no timezone found')\n",
      "[*********************100%***********************]  1 of 1 completed\n",
      "[*********************100%***********************]  1 of 1 completed\n",
      "\n",
      "1 Failed download:\n",
      "['600519.SH']: YFTzMissingError('$%ticker%: possibly delisted; no timezone found')\n",
      "[*********************100%***********************]  1 of 1 completed\n",
      "[*********************100%***********************]  1 of 1 completed\n"
     ]
    },
    {
     "data": {
      "text/plain": [
       "1     NaN\n",
       "2     NaN\n",
       "3     NaN\n",
       "4     NaN\n",
       "5     NaN\n",
       "       ..\n",
       "406   NaN\n",
       "407   NaN\n",
       "408   NaN\n",
       "409   NaN\n",
       "410   NaN\n",
       "Length: 410, dtype: float64"
      ]
     },
     "execution_count": 4,
     "metadata": {},
     "output_type": "execute_result"
    }
   ],
   "source": [
    "tickers = [\n",
    "    \"000627.SZ\", \"603880.SH\", \"000550.SZ\", \"601113.SH\", \"300289.SZ\", \n",
    "    \"600645.SH\", \"002086.SZ\", \"301097.SZ\", \"300030.SZ\", \"601601.SH\", \n",
    "    \"601336.SH\", \"301110.SZ\", \"301515.SZ\", \"601628.SH\", \"601319.SH\", \n",
    "    \"601318.SH\", \"301236.SZ\", \"600519.SH\", \"300314.SZ\", \"300942.SZ\"\n",
    "]\n",
    "\n",
    "STOCKS = []\n",
    "def get_stock_data(tickers):\n",
    "    end_date = datetime.now().strftime('%Y-%m-%d')\n",
    "    for ticker in tickers:\n",
    "        data = yf.download(ticker, start='2023-01-01', end=end_date)\n",
    "\n",
    "        data.reset_index(inplace=True)\n",
    "        STOCKS.append(data)\n",
    "        \n",
    "get_stock_data(tickers)\n",
    "\n",
    "stocks_returns = []\n",
    "for i, stock in enumerate(STOCKS):\n",
    "    returns = np.log(stock['Adj Close'] / stock['Adj Close'].shift(1))\n",
    "    returns = returns.dropna()\n",
    "    stocks_returns.append(returns)\n",
    "    \n",
    "n = len(tickers) - 9\n",
    "weights = np.full(n, 1/n)\n",
    "df = pd.DataFrame({\n",
    "    f'stock_{chr(65 + i)}': stocks_returns[i] for i in range(n)\n",
    "})\n",
    "stock_returns = df.dot(weights)\n",
    "\n",
    "stock_returns"
   ]
  }
 ],
 "metadata": {
  "kernelspec": {
   "display_name": "cursor_tmp",
   "language": "python",
   "name": "python3"
  },
  "language_info": {
   "codemirror_mode": {
    "name": "ipython",
    "version": 3
   },
   "file_extension": ".py",
   "mimetype": "text/x-python",
   "name": "python",
   "nbconvert_exporter": "python",
   "pygments_lexer": "ipython3",
   "version": "3.9.19"
  }
 },
 "nbformat": 4,
 "nbformat_minor": 2
}
